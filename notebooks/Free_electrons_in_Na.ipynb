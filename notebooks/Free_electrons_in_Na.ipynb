{
 "metadata": {
  "name": ""
 },
 "nbformat": 3,
 "nbformat_minor": 0,
 "worksheets": [
  {
   "cells": [
    {
     "cell_type": "heading",
     "level": 3,
     "metadata": {},
     "source": [
      "Q: *Using the shape of the computed band structure of Na, please show what the empty BCC lattice band structure may look like (assuming isotropic effective mass $m_0$)*"
     ]
    },
    {
     "cell_type": "markdown",
     "metadata": {},
     "source": [
      "The empty BCC lattice is obtained when setting $V \\equiv 0$. The effect of the weak finite potential $V$ is to lift the accidental band degeneracies at $k=0$ and at the zone boundaries (high symmetry points)  in the Brillouin zone. Such splittings vary for the various bands and at different high symmetry points. In order to obtain the empty lattice structure from the real structure, one needs to merge the bands at the places where the effect of the finite value of $V$ is to split them. The final result remains close to the computed band structure, because the nearly-free electron approximation is quite justified in the case of Na."
     ]
    },
    {
     "cell_type": "code",
     "collapsed": false,
     "input": [
      "from IPython.display import Image\n",
      "i = Image(filename='empty_BCC_bands.png')\n",
      "i"
     ],
     "language": "python",
     "metadata": {},
     "outputs": [
      {
       "metadata": {},
       "output_type": "pyout",
       "png": "[encoded data removed]",
       "prompt_number": 3,
       "text": [
        "<IPython.core.display.Image at 0x1b53710>"
       ]
      }
     ],
     "prompt_number": 3
    },
    {
     "cell_type": "heading",
     "level": 3,
     "metadata": {},
     "source": [
      "Q: *In the above mentionned model, how high above the bottom of the conduction band does the Fermi energy lie?*"
     ]
    },
    {
     "cell_type": "markdown",
     "metadata": {},
     "source": [
      "For the alkali metals, the nearly-free electron approximation is valid. This leads to a nearly spherical Fermi surface, and small band gaps. The crystal structure for the alkali metals is body centered cubic (BCC).\n",
      "\n",
      "In the figure representing the computed band structure of Na, the lowest band is the 3s conduction band. The filled valence bands lie much lower in energy and are not represented. For the case of Na, the 3s conduction band is very nearly free electron\u2013like and the dispersion relations are closely isotropic. The isotropic effective mass model with parameter $m_0$ is therefore a very good approximation.\n",
      "\n",
      "Since Na has a the [Ne]$3s^1$ electronic structure, the Fermi level is determined so that the 3s band is exactly half\u2013occupied. Therefore the radius of the Fermi surface $k_F$ satisfies the relation\n",
      "$$\\dfrac{4 \\pi k_F^3}{3}=\\dfrac{1}{2}*2*\\left(\\dfrac{2\\pi}{a}\\right)^3 \\Rightarrow k_F = \\left(\\dfrac{3}{4\\pi}\\right)^{1/3}\\left(\\dfrac{2\\pi}{a}\\right) \\simeq 0.62 \\left(\\dfrac{2\\pi}{a}\\right)$$\n",
      "\n",
      "The shortest distance from $\\Gamma$ to a Brillouin zone face is $\\Gamma \\text{N} = \\left(\\dfrac{2\\pi}{a}\\right) \\sqrt{(1/2)^2+(1/2)^2+0^2} \\simeq 0.71 \\left(\\dfrac{2\\pi}{a}\\right)$\n",
      "\n",
      "This indicates that the Fermi sphere remains a safe distance away from the zone boundary, where only narrow band gaps distort the otherwise quasi free-electron like dispersion. It is therefore quite a safe approximation to consider a quadratic dispersion with effective mass $m_0$ for all electrons of Na, and a spherical Fermi surface. This is also visible in the position of the $E_F$ line in the computed band structure, which lies safely below the lowest lying band gap at the N point.\n",
      "\n",
      "The energy $E_F$ thus verifies $E_F \\simeq \\dfrac{\\hbar^2 k_F^2}{2m_0} = \\dfrac{\\hbar^2(3/4\\pi)^{2/3}}{2m_0}\\left(\\dfrac{2\\pi}{a}\\right)^2$\n",
      "\n",
      "Using:\n",
      "\n",
      "1. $a=0.423 \\times 10^{-9}$m\n",
      "1. $m_0 = 0.97 \\cdot m_e = 0.97 \\cdot 9.1 \\times 10^{-31}$kg\n",
      "1. $\\hbar = 1.05 \\times 10^{-34}\\text{m}^2$.kg/s\n",
      "\n",
      "we get $E_F \\simeq 5.2 \\times 10^{-19}\\text{J} = 3.2 \\text{eV} = 0.24 \\text{Ry}$\n",
      "\n",
      "Ref:\n",
      "\n",
      "1. Ashcroft Mermin, Ch. 15\n",
      "1. M.S. Dresselhaus, lectures notes, Transport properties of Solids, 2001, Ch. 2.2\n",
      "1. Pastori-Paravicini, p. 223 for effective mass."
     ]
    },
    {
     "cell_type": "heading",
     "level": 3,
     "metadata": {},
     "source": [
      "*Justify why Na is called \"the simplest of simple metals\"*"
     ]
    },
    {
     "cell_type": "markdown",
     "metadata": {},
     "source": [
      "As illustrated above, the various effects arising from the periodic potential of the lattice materialize in the most simple manner in Na:\n",
      "\n",
      "1. The effective mass is isotropic\n",
      "2. The effective mass is very close the the rest mass of a free electron\n",
      "3. The Fermi sphere does not get close to the band gaps.\n",
      "4. The width of the band gaps is small compared to bandwidth\n",
      "5. For all practical purposes, the dispersion relation of the electrons is therefore identical to the free electron dispersion relation\n",
      "\n",
      "In other terms, it is not possible to find a real material which deviates less from the free electron gas case, than does Na. As a consequence, it is the most simple to model."
     ]
    }
   ],
   "metadata": {}
  }
 ]
}