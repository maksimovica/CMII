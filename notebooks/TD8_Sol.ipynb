{
 "metadata": {
  "name": "",
  "signature": "sha256:c35ad36fb7fa833a7f66dcbd3c34eb8f278563e97cf6ed63f8349df7e00d41de"
 },
 "nbformat": 3,
 "nbformat_minor": 0,
 "worksheets": [
  {
   "cells": [
    {
     "cell_type": "code",
     "collapsed": false,
     "input": [
      "import scipy.constants as cst\n",
      "import math\n",
      "import numpy as np\n",
      "from wand.image import Image as WImage\n",
      "from wand.display import display\n",
      "from IPython.display import HTML"
     ],
     "language": "python",
     "metadata": {},
     "outputs": [],
     "prompt_number": 26
    },
    {
     "cell_type": "code",
     "collapsed": false,
     "input": [
      "m_hh = 0.68\n",
      "m_lh = 0.12\n",
      "m_e = 0.07\n",
      "epsilon_ga = 15\n",
      "N_d = 10**16 * 10**6"
     ],
     "language": "python",
     "metadata": {},
     "outputs": [],
     "prompt_number": 108
    },
    {
     "cell_type": "heading",
     "level": 2,
     "metadata": {},
     "source": [
      "I.1"
     ]
    },
    {
     "cell_type": "markdown",
     "metadata": {},
     "source": [
      "$m_h^{(3/2)} = m_{hh}^{(3/2)} + m_{lh}^{(3/2)}$"
     ]
    },
    {
     "cell_type": "code",
     "collapsed": false,
     "input": [
      "m_h = (m_hh**1.5 + m_lh**1.5)**(2.0/3.0)\n",
      "print m_h"
     ],
     "language": "python",
     "metadata": {},
     "outputs": [
      {
       "output_type": "stream",
       "stream": "stdout",
       "text": [
        "0.713204613984\n"
       ]
      }
     ],
     "prompt_number": 7
    },
    {
     "cell_type": "markdown",
     "metadata": {},
     "source": [
      "$n_{intrinsic} = 2 \\left( \\dfrac{\\sqrt{m_h m_e} k_B T}{2 \\pi \\hbar^2} e^{-\\dfrac{E_g}{2k_B T}} \\right)$"
     ]
    },
    {
     "cell_type": "code",
     "collapsed": false,
     "input": [
      "n_i = 2.0*math.sqrt(m_h * m_e) * cst.m_e * cst.k * 300 * (\n",
      "    math.exp(-1.40 * cst.e / (2.0*cst.k*300)) / (2.0*math.pi*cst.hbar**2))\n",
      "print n_i\n"
     ],
     "language": "python",
     "metadata": {},
     "outputs": [
      {
       "output_type": "stream",
       "stream": "stdout",
       "text": [
        "41982.0630128\n"
       ]
      }
     ],
     "prompt_number": 13
    },
    {
     "cell_type": "markdown",
     "metadata": {},
     "source": [
      "$n_i \\ll N_d$"
     ]
    },
    {
     "cell_type": "heading",
     "level": 2,
     "metadata": {},
     "source": [
      "I.2"
     ]
    },
    {
     "cell_type": "markdown",
     "metadata": {},
     "source": [
      "Cf previous tutoring session"
     ]
    },
    {
     "cell_type": "code",
     "collapsed": false,
     "input": [
      "def lamb(T):\n",
      "    return np.sqrt(2.0 * math.pi * cst.hbar**2 / (m_e * cst.m_e * cst.k * T))\n",
      "\n",
      "def get_binding_energy(eff_mass, epsilon):\n",
      "    return eff_mass/ epsilon**2 * (cst.e**4*cst.m_e/(2.0*cst.hbar**2))/(4.0*math.pi*cst.epsilon_0)**2/cst.e*1000.0"
     ],
     "language": "python",
     "metadata": {},
     "outputs": [],
     "prompt_number": 59
    },
    {
     "cell_type": "code",
     "collapsed": false,
     "input": [
      "E_d = get_binding_energy(m_e, epsilon_ga)\n",
      "print str(E_d) + \" meV\""
     ],
     "language": "python",
     "metadata": {},
     "outputs": [
      {
       "output_type": "stream",
       "stream": "stdout",
       "text": [
        "4.23288212665 meV\n"
       ]
      }
     ],
     "prompt_number": 60
    },
    {
     "cell_type": "heading",
     "level": 2,
     "metadata": {},
     "source": [
      "I.3"
     ]
    },
    {
     "cell_type": "code",
     "collapsed": false,
     "input": [
      "def get_Ef(T): #result in meV\n",
      "    ee = np.exp(E_d*cst.e/(1000.0*cst.k*T))\n",
      "    return cst.k * T * np.log(4.0*ee / (np.sqrt(1.0+4.0*N_d*lamb(T)**3 * ee) - 1)) / cst.e * 1000.0"
     ],
     "language": "python",
     "metadata": {},
     "outputs": [],
     "prompt_number": 79
    },
    {
     "cell_type": "code",
     "collapsed": false,
     "input": [
      "print get_Ef(30)\n",
      "print get_Ef(300)"
     ],
     "language": "python",
     "metadata": {},
     "outputs": [
      {
       "output_type": "stream",
       "stream": "stdout",
       "text": [
        "36.7112671429\n",
        "456.40212677\n"
       ]
      }
     ],
     "prompt_number": 102
    },
    {
     "cell_type": "heading",
     "level": 2,
     "metadata": {},
     "source": [
      "II.3"
     ]
    },
    {
     "cell_type": "code",
     "collapsed": false,
     "input": [
      "def get_electron_density(T):\n",
      "    return 2.0 / lamb(T)**3 * np.exp(-get_Ef(T) * cst.e/(1000.0*cst.k*T)) "
     ],
     "language": "python",
     "metadata": {},
     "outputs": [],
     "prompt_number": 113
    },
    {
     "cell_type": "code",
     "collapsed": false,
     "input": [
      "print get_electron_density(30) * 10**-6\n",
      "print get_electron_density(300) * 10**-6"
     ],
     "language": "python",
     "metadata": {},
     "outputs": [
      {
       "output_type": "stream",
       "stream": "stdout",
       "text": [
        "3.13283060258e+15\n",
        "9.53878213636e+15\n"
       ]
      }
     ],
     "prompt_number": 114
    },
    {
     "cell_type": "code",
     "collapsed": false,
     "input": [
      "print get_Ef(300)\n",
      "print (cst.k*300)*1000.0 / cst.e\n",
      "print np.exp(-get_Ef(300) * cst.e/(1000.0*cst.k*300))\n",
      "print np.exp(-100.0 * cst.e/(1000.0*cst.k*300))"
     ],
     "language": "python",
     "metadata": {},
     "outputs": [
      {
       "output_type": "stream",
       "stream": "stdout",
       "text": [
        "100.464298365\n",
        "25.8519971549\n",
        "0.0205245619649\n",
        "0.02089651039\n"
       ]
      }
     ],
     "prompt_number": 109
    },
    {
     "cell_type": "code",
     "collapsed": false,
     "input": [
      "cst.k"
     ],
     "language": "python",
     "metadata": {},
     "outputs": [
      {
       "metadata": {},
       "output_type": "pyout",
       "prompt_number": 103,
       "text": [
        "1.3806488e-23"
       ]
      }
     ],
     "prompt_number": 103
    },
    {
     "cell_type": "code",
     "collapsed": false,
     "input": [
      "cst.hbar\n"
     ],
     "language": "python",
     "metadata": {},
     "outputs": [
      {
       "metadata": {},
       "output_type": "pyout",
       "prompt_number": 104,
       "text": [
        "1.0545717253362894e-34"
       ]
      }
     ],
     "prompt_number": 104
    },
    {
     "cell_type": "code",
     "collapsed": false,
     "input": [],
     "language": "python",
     "metadata": {},
     "outputs": []
    }
   ],
   "metadata": {}
  }
 ]
}